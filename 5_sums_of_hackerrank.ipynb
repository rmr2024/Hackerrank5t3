{
  "nbformat": 4,
  "nbformat_minor": 0,
  "metadata": {
    "colab": {
      "provenance": []
    },
    "kernelspec": {
      "name": "python3",
      "display_name": "Python 3"
    },
    "language_info": {
      "name": "python"
    }
  },
  "cells": [
    {
      "cell_type": "code",
      "execution_count": null,
      "metadata": {
        "colab": {
          "base_uri": "https://localhost:8080/"
        },
        "id": "GmCN-s_GQ5Aw",
        "outputId": "dfc8ba1f-5811-4e58-f5ad-1edf55c36293"
      },
      "outputs": [
        {
          "output_type": "stream",
          "name": "stdout",
          "text": [
            "Enter weight8\n",
            "Yes\n"
          ]
        }
      ],
      "source": [
        "'''One hot summer day Pete and his friend Billy decided to buy a watermelon. They chose the biggest and the ripest one, in their opinion. After that the watermelon was weighed, and the scales showed w kilos. They rushed home, dying of thirst, and decided to divide the berry, however they faced a hard problem.\n",
        "Pete and Billy are great fans of even numbers, that's why they want to divide the watermelon in such a way that each of the two parts weighs even number of kilos, at the same time it is not obligatory that the parts are equal. The boys are extremely tired and want to start their meal as soon as possible, that's why you should help them and find out, if they can divide the watermelon in the way they want. For sure, each of them should get a part of positive weight.\n",
        "Input\n",
        "The first (and the only) input line contains integer number w (1≤w≤100) the weight of the watermelon bought by the boys.\n",
        "Output\n",
        "Print YES, if the boys can divide the watermelon into two parts, each of them weighing even number of kilos; and NO in the opposite case.'''\n",
        "weight=int(input(\"Enter weight\"))\n",
        "if weight%2==0 and weight>2:\n",
        "  print(\"Yes\")\n",
        "else:\n",
        "  print(\"No\")"
      ]
    },
    {
      "cell_type": "code",
      "source": [
        "#finding factorial\n",
        "a=int(input(\"Enter a number: \"))\n",
        "fact=1\n",
        "while a>0:\n",
        "  fact=fact*a\n",
        "  a=a-1\n",
        "print(\"The factorial is :\",fact)"
      ],
      "metadata": {
        "colab": {
          "base_uri": "https://localhost:8080/"
        },
        "id": "4YjZNLVfRe34",
        "outputId": "28a232f5-b895-4bcf-8f2c-f2efe4fd5f38"
      },
      "execution_count": null,
      "outputs": [
        {
          "output_type": "stream",
          "name": "stdout",
          "text": [
            "Enter a number: 5\n",
            "The factorial is : 120\n"
          ]
        }
      ]
    },
    {
      "cell_type": "code",
      "source": [
        "# ASCII Value of Character\n",
        "c = 'g'\n",
        "# print the ASCII value of assigned character in c\n",
        "print(\"The ASCII value of '\" + c + \"' is\", ord(c))\n"
      ],
      "metadata": {
        "id": "vJ7BxVrPWyeo"
      },
      "execution_count": null,
      "outputs": []
    },
    {
      "cell_type": "code",
      "source": [
        "def area(a,b):\n",
        "  return a*b\n",
        "\n",
        "side1=int(input(\"enter the side1:\"))\n",
        "side2=int(input(\"enter the side2:\"))\n",
        "area=area(side1,side2)\n",
        "print(\"area of rectangle \",area)"
      ],
      "metadata": {
        "colab": {
          "base_uri": "https://localhost:8080/"
        },
        "id": "48_3qtRRfWEj",
        "outputId": "d6d444ca-03e7-46a0-a2e5-82bd5ea72e9d"
      },
      "execution_count": 1,
      "outputs": [
        {
          "output_type": "stream",
          "name": "stdout",
          "text": [
            "enter the side1:3\n",
            "enter the side2:4\n",
            "area of rectangle  12\n"
          ]
        }
      ]
    },
    {
      "cell_type": "code",
      "source": [
        "def intrest(a,b,c):\n",
        "  return a*b*c\n",
        "\n",
        "p=int(input(\"enter the principle:\"))\n",
        "r=int(input(\"enter the rate:\"))\n",
        "t=int(input(\"enter the time:\"))\n",
        "intrest=intrest(p,r,t)\n",
        "print(intrest)"
      ],
      "metadata": {
        "colab": {
          "base_uri": "https://localhost:8080/"
        },
        "id": "kkRBOvUtflGb",
        "outputId": "e872e6fe-9718-4335-d0ec-11725dbc5e2d"
      },
      "execution_count": 2,
      "outputs": [
        {
          "output_type": "stream",
          "name": "stdout",
          "text": [
            "enter the principle:1000\n",
            "enter the rate:2\n",
            "enter the time:3\n",
            "6000\n"
          ]
        }
      ]
    },
    {
      "cell_type": "code",
      "source": [],
      "metadata": {
        "id": "rzFy66CnfpoS"
      },
      "execution_count": null,
      "outputs": []
    }
  ]
}